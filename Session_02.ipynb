{
 "cells": [
  {
   "cell_type": "code",
   "execution_count": null,
   "id": "81392a1b",
   "metadata": {},
   "outputs": [],
   "source": [
    "# Body Mass index(BMI)\n",
    "#Input weight \n",
    "#input height\n",
    "#Ask your self your Height(BMI)\n",
    "#calculate BMI\n",
    "#Print BMI(My name is..............., my BMI is ..........)\n",
    "# BMI = weight in kg/height in m and its square"
   ]
  },
  {
   "cell_type": "code",
   "execution_count": 16,
   "id": "541c5e80",
   "metadata": {},
   "outputs": [
    {
     "name": "stdout",
     "output_type": "stream",
     "text": [
      "what is your name? hussain\n",
      "write  your weight? 70\n",
      "write your height? 1.33\n",
      "My name is  hussain , and my BMI is 39.57261574990107\n"
     ]
    }
   ],
   "source": [
    "name= input(\"what is your name? \" )\n",
    "weight= input(\"write  your weight? \")\n",
    "weight=float(weight)\n",
    "height = input(\"write your height? \")\n",
    "height=float(height)\n",
    "BMI = float(weight/height**2)\n",
    "print(\"My name is \" ,name,  \", and my BMI is\" ,BMI)"
   ]
  },
  {
   "cell_type": "code",
   "execution_count": null,
   "id": "2967d1da",
   "metadata": {},
   "outputs": [],
   "source": []
  },
  {
   "cell_type": "code",
   "execution_count": null,
   "id": "3e0a2bf6",
   "metadata": {},
   "outputs": [],
   "source": []
  }
 ],
 "metadata": {
  "kernelspec": {
   "display_name": "Python 3 (ipykernel)",
   "language": "python",
   "name": "python3"
  },
  "language_info": {
   "codemirror_mode": {
    "name": "ipython",
    "version": 3
   },
   "file_extension": ".py",
   "mimetype": "text/x-python",
   "name": "python",
   "nbconvert_exporter": "python",
   "pygments_lexer": "ipython3",
   "version": "3.9.7"
  }
 },
 "nbformat": 4,
 "nbformat_minor": 5
}
