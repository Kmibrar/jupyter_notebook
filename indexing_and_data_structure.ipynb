{
 "cells": [
  {
   "cell_type": "code",
   "execution_count": 1,
   "id": "bda1c348",
   "metadata": {},
   "outputs": [
    {
     "ename": "SyntaxError",
     "evalue": "invalid syntax (Temp/ipykernel_220/3888417817.py, line 2)",
     "output_type": "error",
     "traceback": [
      "\u001b[1;36m  File \u001b[1;32m\"C:\\Users\\WASIMU~1\\AppData\\Local\\Temp/ipykernel_220/3888417817.py\"\u001b[1;36m, line \u001b[1;32m2\u001b[0m\n\u001b[1;33m    `\u001b[0m\n\u001b[1;37m    ^\u001b[0m\n\u001b[1;31mSyntaxError\u001b[0m\u001b[1;31m:\u001b[0m invalid syntax\n"
     ]
    }
   ],
   "source": [
    "# indexing\n",
    "`"
   ]
  },
  {
   "cell_type": "code",
   "execution_count": null,
   "id": "76ef7f53",
   "metadata": {},
   "outputs": [],
   "source": [
    "# making a string\n",
    "a = \"samosa pakora\"\n",
    "a"
   ]
  },
  {
   "cell_type": "code",
   "execution_count": null,
   "id": "d4ebac0c",
   "metadata": {},
   "outputs": [],
   "source": [
    "# as indexing start with 0 the first element on 0 is s in string a\n",
    "a[0]"
   ]
  },
  {
   "cell_type": "code",
   "execution_count": null,
   "id": "3d37a356",
   "metadata": {},
   "outputs": [],
   "source": [
    "# the second element on index 1 is s \n",
    "a[1]"
   ]
  },
  {
   "cell_type": "code",
   "execution_count": null,
   "id": "33ce57ea",
   "metadata": {},
   "outputs": [],
   "source": [
    "# the third element on index 2 is m \n",
    "a[2]"
   ]
  },
  {
   "cell_type": "markdown",
   "id": "05d28ca0",
   "metadata": {},
   "source": [
    "# index length\n",
    "## to find index length"
   ]
  },
  {
   "cell_type": "code",
   "execution_count": null,
   "id": "5bd28617",
   "metadata": {},
   "outputs": [],
   "source": [
    "len(a)\n"
   ]
  },
  {
   "cell_type": "code",
   "execution_count": 2,
   "id": "2db7a2ae",
   "metadata": {},
   "outputs": [
    {
     "ename": "NameError",
     "evalue": "name 'a' is not defined",
     "output_type": "error",
     "traceback": [
      "\u001b[1;31m---------------------------------------------------------------------------\u001b[0m",
      "\u001b[1;31mNameError\u001b[0m                                 Traceback (most recent call last)",
      "\u001b[1;32mC:\\Users\\WASIMU~1\\AppData\\Local\\Temp/ipykernel_220/1288270073.py\u001b[0m in \u001b[0;36m<module>\u001b[1;34m\u001b[0m\n\u001b[1;32m----> 1\u001b[1;33m \u001b[0ma\u001b[0m\u001b[1;33m\u001b[0m\u001b[1;33m\u001b[0m\u001b[0m\n\u001b[0m",
      "\u001b[1;31mNameError\u001b[0m: name 'a' is not defined"
     ]
    }
   ],
   "source": [
    "a\n"
   ]
  },
  {
   "cell_type": "code",
   "execution_count": null,
   "id": "68c90fd6",
   "metadata": {},
   "outputs": [],
   "source": [
    "# as above the length of the string is 13 \n",
    "# here a[13] then it will print the 12th element which is a\n",
    "a[12]"
   ]
  },
  {
   "cell_type": "code",
   "execution_count": null,
   "id": "455501da",
   "metadata": {},
   "outputs": [],
   "source": [
    "# if you wana show the some of element the write the intex from start point to the last\n",
    "a[0:6]"
   ]
  },
  {
   "cell_type": "code",
   "execution_count": null,
   "id": "a143442a",
   "metadata": {},
   "outputs": [],
   "source": [
    "# in a[0:6] means start from 0 exculting 6 \n",
    "# last element is exculsive\n",
    "\n"
   ]
  },
  {
   "cell_type": "markdown",
   "id": "3e040478",
   "metadata": {},
   "source": [
    "# writing from last of the index "
   ]
  },
  {
   "cell_type": "code",
   "execution_count": null,
   "id": "0ac1ee97",
   "metadata": {},
   "outputs": [],
   "source": [
    "# for last element \n",
    "a[-1]"
   ]
  },
  {
   "cell_type": "code",
   "execution_count": null,
   "id": "90dc5d62",
   "metadata": {},
   "outputs": [],
   "source": [
    "#for second last element \n",
    "a[-2]"
   ]
  },
  {
   "cell_type": "code",
   "execution_count": null,
   "id": "1b6e4a31",
   "metadata": {},
   "outputs": [],
   "source": [
    "a"
   ]
  },
  {
   "cell_type": "code",
   "execution_count": null,
   "id": "48a06f06",
   "metadata": {},
   "outputs": [],
   "source": [
    "# if you wana last word the we need to find the total length of string then we can print\n",
    "len(a)\n"
   ]
  },
  {
   "cell_type": "code",
   "execution_count": null,
   "id": "f59157fe",
   "metadata": {},
   "outputs": [],
   "source": [
    "#as length is 13 so we can print the last word as \n",
    "a[-6:13]"
   ]
  },
  {
   "cell_type": "markdown",
   "id": "6cf026e4",
   "metadata": {},
   "source": [
    "# strng method "
   ]
  },
  {
   "cell_type": "code",
   "execution_count": null,
   "id": "51636d5c",
   "metadata": {},
   "outputs": [],
   "source": [
    "food = \"biryani\"\n",
    "food"
   ]
  },
  {
   "cell_type": "code",
   "execution_count": null,
   "id": "e1a7458a",
   "metadata": {},
   "outputs": [],
   "source": [
    "len(food)"
   ]
  },
  {
   "cell_type": "code",
   "execution_count": null,
   "id": "8f8a8914",
   "metadata": {},
   "outputs": [],
   "source": [
    "# for capitalization \n",
    "food.capitalize()"
   ]
  },
  {
   "cell_type": "code",
   "execution_count": null,
   "id": "9f39530b",
   "metadata": {},
   "outputs": [],
   "source": [
    "# for upper case\n",
    "food.upper()"
   ]
  },
  {
   "cell_type": "code",
   "execution_count": null,
   "id": "4cfbccd4",
   "metadata": {},
   "outputs": [],
   "source": [
    "# for lower case\n",
    "food.lower()\n"
   ]
  },
  {
   "cell_type": "code",
   "execution_count": null,
   "id": "c8bb7aed",
   "metadata": {},
   "outputs": [],
   "source": [
    "# for replacement any element (here we replace b with sh in string)\n",
    "food.replace(\"b\",\"sh\")"
   ]
  },
  {
   "cell_type": "markdown",
   "id": "25beacf1",
   "metadata": {},
   "source": [
    "# for counting specific alphabates \n"
   ]
  },
  {
   "cell_type": "code",
   "execution_count": null,
   "id": "3c97b2cc",
   "metadata": {},
   "outputs": [],
   "source": [
    "food.count(\"i\")"
   ]
  },
  {
   "cell_type": "code",
   "execution_count": null,
   "id": "30e53feb",
   "metadata": {},
   "outputs": [],
   "source": [
    "name=\"python with baba ammar\"\n",
    "name.count(\"w\")"
   ]
  },
  {
   "cell_type": "markdown",
   "id": "996b7ef8",
   "metadata": {},
   "source": [
    "# find the index number of an alphbate"
   ]
  },
  {
   "cell_type": "code",
   "execution_count": null,
   "id": "7abbed34",
   "metadata": {},
   "outputs": [],
   "source": [
    "name=\"python with baba ammar\"\n",
    "name.find(\"m\")\n",
    "# m is on index 18"
   ]
  },
  {
   "cell_type": "markdown",
   "id": "67b9ef73",
   "metadata": {},
   "source": [
    "## how to splite the string"
   ]
  },
  {
   "cell_type": "code",
   "execution_count": null,
   "id": "5bc53782",
   "metadata": {},
   "outputs": [],
   "source": [
    "food=\"chiken,beef,baverage,kharhi and raita\"\n",
    "food.split(\",\")\n",
    "# split the string by \",\" by comma"
   ]
  },
  {
   "cell_type": "markdown",
   "id": "63faf9e1",
   "metadata": {},
   "source": [
    "--- "
   ]
  },
  {
   "cell_type": "markdown",
   "id": "bac0fe7e",
   "metadata": {},
   "source": [
    "# Basic data sturcture in python"
   ]
  },
  {
   "cell_type": "markdown",
   "id": "536051db",
   "metadata": {},
   "source": [
    "## 1-Tuple\n",
    "## 2- list\n",
    "## 3- Dectionaries\n",
    "## 4- Sets"
   ]
  },
  {
   "cell_type": "markdown",
   "id": "3f3713d9",
   "metadata": {},
   "source": [
    "# 1- Tuple\n",
    "- Order collection of elements\n",
    "- enclose in round brases () /paranthesis\n",
    "- Different kind of elements can be stored\n",
    "- Once elements are stored you can not change them (unmutatable)"
   ]
  },
  {
   "cell_type": "code",
   "execution_count": null,
   "id": "562dda87",
   "metadata": {},
   "outputs": [],
   "source": [
    "tup1 =(10,\"anaconda\",5.4,True,False)\n",
    "tup1"
   ]
  },
  {
   "cell_type": "code",
   "execution_count": null,
   "id": "a4bc3a48",
   "metadata": {},
   "outputs": [],
   "source": [
    "#type of tuple\n",
    "type(tup1)"
   ]
  },
  {
   "cell_type": "markdown",
   "id": "ac17161d",
   "metadata": {},
   "source": [
    "### - Indexing in tuple"
   ]
  },
  {
   "cell_type": "code",
   "execution_count": null,
   "id": "45472275",
   "metadata": {},
   "outputs": [],
   "source": [
    "tup1[0]"
   ]
  },
  {
   "cell_type": "code",
   "execution_count": null,
   "id": "2c22b5cc",
   "metadata": {},
   "outputs": [],
   "source": [
    "tup1[1]"
   ]
  },
  {
   "cell_type": "code",
   "execution_count": null,
   "id": "c39264b4",
   "metadata": {},
   "outputs": [],
   "source": [
    "# exculisve 6 index\n",
    "tup1[0:6]"
   ]
  },
  {
   "cell_type": "code",
   "execution_count": null,
   "id": "d17821cf",
   "metadata": {},
   "outputs": [],
   "source": [
    "tup2 =(40,30,\"python\",30.5)\n",
    "# concatincate (add 2 or more tuple)\n",
    "tup1 + tup2"
   ]
  },
  {
   "cell_type": "code",
   "execution_count": null,
   "id": "446312e6",
   "metadata": {},
   "outputs": [],
   "source": [
    "# concatinate + repeat\n",
    "tup1*2+tup2"
   ]
  },
  {
   "cell_type": "code",
   "execution_count": null,
   "id": "d9cb0cf6",
   "metadata": {},
   "outputs": [],
   "source": [
    "tup3=(4,3,2,5,6,8)\n",
    "tup3+tup3"
   ]
  },
  {
   "cell_type": "code",
   "execution_count": null,
   "id": "93fecd3d",
   "metadata": {},
   "outputs": [],
   "source": [
    "# find min element \n",
    "min(tup3)"
   ]
  },
  {
   "cell_type": "code",
   "execution_count": null,
   "id": "bd7f1f3f",
   "metadata": {},
   "outputs": [],
   "source": [
    "#find max element\n",
    "max(tup3)"
   ]
  },
  {
   "cell_type": "code",
   "execution_count": null,
   "id": "9d2817ac",
   "metadata": {},
   "outputs": [],
   "source": []
  },
  {
   "cell_type": "code",
   "execution_count": null,
   "id": "2da5f987",
   "metadata": {},
   "outputs": [],
   "source": [
    "tup1 +tup2 +tup3"
   ]
  },
  {
   "cell_type": "markdown",
   "id": "1c6a0b71",
   "metadata": {},
   "source": [
    "## Assignement of tuple"
   ]
  },
  {
   "cell_type": "code",
   "execution_count": null,
   "id": "8214bd34",
   "metadata": {},
   "outputs": [],
   "source": [
    "tup3."
   ]
  },
  {
   "cell_type": "markdown",
   "id": "06e029b2",
   "metadata": {},
   "source": [
    "---"
   ]
  },
  {
   "cell_type": "markdown",
   "id": "ba03025b",
   "metadata": {},
   "source": [
    "# 2-List\n",
    "- Order collection of elements\n",
    "- enclosed in [ ] square braces/brakets\n",
    "- Mutateable, you can change the value"
   ]
  },
  {
   "cell_type": "code",
   "execution_count": null,
   "id": "cd067f5e",
   "metadata": {},
   "outputs": [],
   "source": [
    "list1=[4,6,7,\"ammar\",4.3]\n",
    "list1\n"
   ]
  },
  {
   "cell_type": "code",
   "execution_count": null,
   "id": "33804aae",
   "metadata": {},
   "outputs": [],
   "source": [
    "#checking length of the list\n",
    "len(list1)"
   ]
  },
  {
   "cell_type": "code",
   "execution_count": null,
   "id": "a1bf50c7",
   "metadata": {},
   "outputs": [],
   "source": [
    "# value of index 0 is 4\n",
    "list1[0]"
   ]
  },
  {
   "cell_type": "code",
   "execution_count": null,
   "id": "356d475d",
   "metadata": {},
   "outputs": [],
   "source": [
    "list2=[\"samosa\",4,3,\"raita\"]\n",
    "list2"
   ]
  },
  {
   "cell_type": "code",
   "execution_count": null,
   "id": "b49ada20",
   "metadata": {},
   "outputs": [],
   "source": [
    "#concatinate list1 and list2 (adding)\n",
    "list1 + list2"
   ]
  },
  {
   "cell_type": "code",
   "execution_count": null,
   "id": "089a59f8",
   "metadata": {},
   "outputs": [],
   "source": [
    "# Assignement appling all functions"
   ]
  },
  {
   "cell_type": "code",
   "execution_count": 3,
   "id": "84ef88ad",
   "metadata": {},
   "outputs": [
    {
     "data": {
      "text/plain": [
       "['sami', 'python', 'khan', 3, 9]"
      ]
     },
     "execution_count": 3,
     "metadata": {},
     "output_type": "execute_result"
    }
   ],
   "source": [
    "# List3 define\n",
    "list3=[\"sami\",\"python\",\"khan\",3,9]\n",
    "list3"
   ]
  },
  {
   "cell_type": "code",
   "execution_count": 4,
   "id": "cf372f2b",
   "metadata": {},
   "outputs": [
    {
     "data": {
      "text/plain": [
       "[9, 3, 'khan', 'python', 'sami']"
      ]
     },
     "execution_count": 4,
     "metadata": {},
     "output_type": "execute_result"
    }
   ],
   "source": [
    "# Reverse function(ascending/descending)\n",
    "list3.reverse()\n",
    "list3"
   ]
  },
  {
   "cell_type": "code",
   "execution_count": 17,
   "id": "858a1cc3",
   "metadata": {},
   "outputs": [
    {
     "data": {
      "text/plain": [
       "[10, 9, 8, 4, 3, 11, 19]"
      ]
     },
     "execution_count": 17,
     "metadata": {},
     "output_type": "execute_result"
    }
   ],
   "source": [
    "list4=[10,9,8,4,3,11,19]\n",
    "list4"
   ]
  },
  {
   "cell_type": "code",
   "execution_count": 18,
   "id": "db6762d1",
   "metadata": {},
   "outputs": [
    {
     "data": {
      "text/plain": [
       "[19, 11, 3, 4, 8, 9, 10]"
      ]
     },
     "execution_count": 18,
     "metadata": {},
     "output_type": "execute_result"
    }
   ],
   "source": [
    "list4.reverse()\n",
    "list4"
   ]
  },
  {
   "cell_type": "code",
   "execution_count": 19,
   "id": "33fde8a6",
   "metadata": {},
   "outputs": [
    {
     "data": {
      "text/plain": [
       "[3, 4, 8, 9, 10, 11, 19]"
      ]
     },
     "execution_count": 19,
     "metadata": {},
     "output_type": "execute_result"
    }
   ],
   "source": [
    "# sort function(ascending/descending) Numbers in list\n",
    "list4.sort()\n",
    "list4"
   ]
  },
  {
   "cell_type": "code",
   "execution_count": 20,
   "id": "03c50647",
   "metadata": {},
   "outputs": [
    {
     "data": {
      "text/plain": [
       "[3, 4, 8, 9, 10, 11, 19, 100]"
      ]
     },
     "execution_count": 20,
     "metadata": {},
     "output_type": "execute_result"
    }
   ],
   "source": [
    "# append function use for adding new element in list\n",
    "list4.append(100)\n",
    "list4"
   ]
  },
  {
   "cell_type": "code",
   "execution_count": 26,
   "id": "3b83dfde",
   "metadata": {},
   "outputs": [
    {
     "data": {
      "text/plain": [
       "1"
      ]
     },
     "execution_count": 26,
     "metadata": {},
     "output_type": "execute_result"
    }
   ],
   "source": [
    "# count function use for count specific element in list\n",
    "list4.count(4)\n"
   ]
  },
  {
   "cell_type": "code",
   "execution_count": 29,
   "id": "e5ecd155",
   "metadata": {},
   "outputs": [
    {
     "data": {
      "text/plain": [
       "[3, 4, 8, 9, 10, 11, 19, 100]"
      ]
     },
     "execution_count": 29,
     "metadata": {},
     "output_type": "execute_result"
    }
   ],
   "source": [
    "list4.copy()"
   ]
  },
  {
   "cell_type": "code",
   "execution_count": 31,
   "id": "1cf3c872",
   "metadata": {},
   "outputs": [
    {
     "data": {
      "text/plain": [
       "4"
      ]
     },
     "execution_count": 31,
     "metadata": {},
     "output_type": "execute_result"
    }
   ],
   "source": [
    "# index function use for find the index of require element\n",
    "list4.index(10)"
   ]
  },
  {
   "cell_type": "code",
   "execution_count": 58,
   "id": "550b6ae8",
   "metadata": {},
   "outputs": [
    {
     "data": {
      "text/plain": [
       "[4, 8, 9, 11, '4', '9', '9', '9', '7', '5', '7', '5', 'a', 's', 'd']"
      ]
     },
     "execution_count": 58,
     "metadata": {},
     "output_type": "execute_result"
    }
   ],
   "source": [
    "# extending function use for extending index with new element\n",
    "list4.extend(\"asd\")\n",
    "list4"
   ]
  },
  {
   "cell_type": "code",
   "execution_count": 54,
   "id": "d250af4b",
   "metadata": {},
   "outputs": [
    {
     "data": {
      "text/plain": [
       "[4, 8, 9, 11, 100, '4', '9', '9', '9', '7', '5']"
      ]
     },
     "execution_count": 54,
     "metadata": {},
     "output_type": "execute_result"
    }
   ],
   "source": [
    "list4"
   ]
  },
  {
   "cell_type": "code",
   "execution_count": 66,
   "id": "6d91b4f2",
   "metadata": {},
   "outputs": [
    {
     "data": {
      "text/plain": [
       "[1, 2, 4]"
      ]
     },
     "execution_count": 66,
     "metadata": {},
     "output_type": "execute_result"
    }
   ],
   "source": [
    "# pop function use for remove/delete the indexed element\n",
    "list5=[1,2,3,4]\n",
    "list5.pop(2)\n",
    "list5"
   ]
  },
  {
   "cell_type": "code",
   "execution_count": 64,
   "id": "20582c67",
   "metadata": {},
   "outputs": [
    {
     "data": {
      "text/plain": [
       "[4, 8, 9, 11, '7', '5', '7', '5', 'a', 's', 'd']"
      ]
     },
     "execution_count": 64,
     "metadata": {},
     "output_type": "execute_result"
    }
   ],
   "source": [
    "list4"
   ]
  },
  {
   "cell_type": "code",
   "execution_count": 46,
   "id": "feaa0a4b",
   "metadata": {},
   "outputs": [],
   "source": [
    "# to remove an element\n",
    "list4.remove(3)\n"
   ]
  },
  {
   "cell_type": "code",
   "execution_count": 47,
   "id": "b6258f52",
   "metadata": {},
   "outputs": [
    {
     "data": {
      "text/plain": [
       "[4, 8, 9, 11, 19, 100, '4', '4', '9', '9', '9']"
      ]
     },
     "execution_count": 47,
     "metadata": {},
     "output_type": "execute_result"
    }
   ],
   "source": [
    "list4"
   ]
  },
  {
   "cell_type": "code",
   "execution_count": 52,
   "id": "2cd7f06d",
   "metadata": {},
   "outputs": [
    {
     "data": {
      "text/plain": [
       "[4, 8, 9, 11, 100, '4', '9', '9', '9']"
      ]
     },
     "execution_count": 52,
     "metadata": {},
     "output_type": "execute_result"
    }
   ],
   "source": [
    "list4.remove(19)\n",
    "list4"
   ]
  },
  {
   "cell_type": "markdown",
   "id": "9afe4ec1",
   "metadata": {},
   "source": [
    "---"
   ]
  },
  {
   "cell_type": "code",
   "execution_count": null,
   "id": "9b1cfb80",
   "metadata": {},
   "outputs": [],
   "source": []
  },
  {
   "cell_type": "markdown",
   "id": "5d0cbd89",
   "metadata": {},
   "source": [
    "### 3-Dictionaries\n",
    "- An unordered collection of element\n",
    "- enclosed in { } curly braces or brakets\n",
    "- key and value\n",
    "- Matutable,Changeable value\n"
   ]
  },
  {
   "cell_type": "code",
   "execution_count": 67,
   "id": "db2d844e",
   "metadata": {},
   "outputs": [
    {
     "data": {
      "text/plain": [
       "{'Mangos': 50, 'bananas': 40, 'orange': 60}"
      ]
     },
     "execution_count": 67,
     "metadata": {},
     "output_type": "execute_result"
    }
   ],
   "source": [
    "#items and their prices\n",
    "food1={\"Mangos\":50,\"bananas\":40,\"orange\":60}\n",
    "food1"
   ]
  },
  {
   "cell_type": "code",
   "execution_count": 68,
   "id": "f67ede16",
   "metadata": {},
   "outputs": [
    {
     "data": {
      "text/plain": [
       "dict"
      ]
     },
     "execution_count": 68,
     "metadata": {},
     "output_type": "execute_result"
    }
   ],
   "source": [
    "#type\n",
    "type(food1)"
   ]
  },
  {
   "cell_type": "code",
   "execution_count": 69,
   "id": "a7df20ea",
   "metadata": {},
   "outputs": [
    {
     "data": {
      "text/plain": [
       "3"
      ]
     },
     "execution_count": 69,
     "metadata": {},
     "output_type": "execute_result"
    }
   ],
   "source": [
    "#length of dictionary\n",
    "len(food1)"
   ]
  },
  {
   "cell_type": "code",
   "execution_count": 70,
   "id": "67eaf30b",
   "metadata": {},
   "outputs": [
    {
     "data": {
      "text/plain": [
       "dict_keys(['Mangos', 'bananas', 'orange'])"
      ]
     },
     "execution_count": 70,
     "metadata": {},
     "output_type": "execute_result"
    }
   ],
   "source": [
    "# extract keys form dictionary\n",
    "food1.keys()"
   ]
  },
  {
   "cell_type": "code",
   "execution_count": 71,
   "id": "cf4e50ea",
   "metadata": {},
   "outputs": [
    {
     "data": {
      "text/plain": [
       "dict_values([50, 40, 60])"
      ]
     },
     "execution_count": 71,
     "metadata": {},
     "output_type": "execute_result"
    }
   ],
   "source": [
    "# extract values/price \n",
    "food1.values()"
   ]
  },
  {
   "cell_type": "code",
   "execution_count": 72,
   "id": "24b75430",
   "metadata": {},
   "outputs": [
    {
     "data": {
      "text/plain": [
       "dict_items([('Mangos', 50), ('bananas', 40), ('orange', 60)])"
      ]
     },
     "execution_count": 72,
     "metadata": {},
     "output_type": "execute_result"
    }
   ],
   "source": [
    "food1.items()"
   ]
  },
  {
   "cell_type": "code",
   "execution_count": 79,
   "id": "7902a26d",
   "metadata": {},
   "outputs": [
    {
     "data": {
      "text/plain": [
       "{'Mangos': 50, 'bananas': 40, 'orange': 60, 'apple': 10}"
      ]
     },
     "execution_count": 79,
     "metadata": {},
     "output_type": "execute_result"
    }
   ],
   "source": [
    "#update use for adding item method 1\n",
    "food1[\"apple\"]=10\n",
    "food1"
   ]
  },
  {
   "cell_type": "code",
   "execution_count": 82,
   "id": "6611ce56",
   "metadata": {},
   "outputs": [
    {
     "data": {
      "text/plain": [
       "{'Mangos': 50, 'bananas': 40, 'orange': 60, 'apple': 10, 'c': 60}"
      ]
     },
     "execution_count": 82,
     "metadata": {},
     "output_type": "execute_result"
    }
   ],
   "source": [
    "#update use for adding item method 2\n",
    "\n",
    "food1.update(c=60)\n",
    "food1"
   ]
  },
  {
   "cell_type": "code",
   "execution_count": 83,
   "id": "ba1fbd99",
   "metadata": {},
   "outputs": [
    {
     "data": {
      "text/plain": [
       "{'Mangos': 50, 'bananas': 40, 'orange': 60, 'apple': 10, 'c': 70}"
      ]
     },
     "execution_count": 83,
     "metadata": {},
     "output_type": "execute_result"
    }
   ],
   "source": [
    "#update use for adding item method 3(same item replaced)\n",
    "\n",
    "food1.update(c=70)\n",
    "food1"
   ]
  },
  {
   "cell_type": "code",
   "execution_count": 86,
   "id": "65d0a98a",
   "metadata": {},
   "outputs": [
    {
     "data": {
      "text/plain": [
       "{'dates': 100, 'pear': 50}"
      ]
     },
     "execution_count": 86,
     "metadata": {},
     "output_type": "execute_result"
    }
   ],
   "source": [
    "food2={\"dates\":100,\"pear\":50}\n",
    "food2"
   ]
  },
  {
   "cell_type": "code",
   "execution_count": 88,
   "id": "ca53290d",
   "metadata": {},
   "outputs": [
    {
     "ename": "TypeError",
     "evalue": "unsupported operand type(s) for +: 'dict' and 'dict'",
     "output_type": "error",
     "traceback": [
      "\u001b[1;31m---------------------------------------------------------------------------\u001b[0m",
      "\u001b[1;31mTypeError\u001b[0m                                 Traceback (most recent call last)",
      "\u001b[1;32mC:\\Users\\WASIMU~1\\AppData\\Local\\Temp/ipykernel_220/872947285.py\u001b[0m in \u001b[0;36m<module>\u001b[1;34m\u001b[0m\n\u001b[1;32m----> 1\u001b[1;33m \u001b[0mfood3\u001b[0m\u001b[1;33m=\u001b[0m\u001b[0mfood1\u001b[0m \u001b[1;33m+\u001b[0m \u001b[0mfood2\u001b[0m\u001b[1;33m\u001b[0m\u001b[1;33m\u001b[0m\u001b[0m\n\u001b[0m",
      "\u001b[1;31mTypeError\u001b[0m: unsupported operand type(s) for +: 'dict' and 'dict'"
     ]
    }
   ],
   "source": [
    "# concatinate in dictionary\n",
    "food3=food1 + food2"
   ]
  },
  {
   "cell_type": "code",
   "execution_count": 89,
   "id": "ec100c17",
   "metadata": {},
   "outputs": [],
   "source": [
    "# concatinate in dictionary we need to update first\n",
    "food1.update(food2)"
   ]
  },
  {
   "cell_type": "code",
   "execution_count": null,
   "id": "a278e4b6",
   "metadata": {},
   "outputs": [],
   "source": []
  },
  {
   "cell_type": "code",
   "execution_count": 90,
   "id": "be400a17",
   "metadata": {},
   "outputs": [
    {
     "data": {
      "text/plain": [
       "{'Mangos': 50,\n",
       " 'bananas': 40,\n",
       " 'orange': 60,\n",
       " 'apple': 10,\n",
       " 'c': 70,\n",
       " 'dates': 100,\n",
       " 'pear': 50}"
      ]
     },
     "execution_count": 90,
     "metadata": {},
     "output_type": "execute_result"
    }
   ],
   "source": [
    "food1"
   ]
  },
  {
   "cell_type": "markdown",
   "id": "37712bac",
   "metadata": {},
   "source": [
    "---\n"
   ]
  },
  {
   "cell_type": "markdown",
   "id": "7ae0e226",
   "metadata": {},
   "source": [
    "# 4-Sets\n",
    "- unordered and un index\n",
    "- curly braces { } use\n",
    "- noduplicated allowed\n"
   ]
  },
  {
   "cell_type": "code",
   "execution_count": 114,
   "id": "ff72e59a",
   "metadata": {},
   "outputs": [
    {
     "data": {
      "text/plain": [
       "{1, 2, 3, 'ammar', 'sami'}"
      ]
     },
     "execution_count": 114,
     "metadata": {},
     "output_type": "execute_result"
    }
   ],
   "source": [
    "s1={1,2,3,\"ammar\",\"sami\"}\n",
    "s1"
   ]
  },
  {
   "cell_type": "code",
   "execution_count": 112,
   "id": "5f6ca1b5",
   "metadata": {},
   "outputs": [],
   "source": [
    "s1.add(\"ammar\")"
   ]
  },
  {
   "cell_type": "code",
   "execution_count": 113,
   "id": "196fc5f1",
   "metadata": {},
   "outputs": [
    {
     "data": {
      "text/plain": [
       "{'ammar'}"
      ]
     },
     "execution_count": 113,
     "metadata": {},
     "output_type": "execute_result"
    }
   ],
   "source": [
    "s1"
   ]
  },
  {
   "cell_type": "code",
   "execution_count": 104,
   "id": "85c7c615",
   "metadata": {},
   "outputs": [
    {
     "data": {
      "text/plain": [
       "{1, 3, 'ammar', 'sami'}"
      ]
     },
     "execution_count": 104,
     "metadata": {},
     "output_type": "execute_result"
    }
   ],
   "source": [
    "# discard use for remove/delete the element \n",
    "s1.discard(2)\n",
    "s1"
   ]
  },
  {
   "cell_type": "code",
   "execution_count": 115,
   "id": "f17361f0",
   "metadata": {},
   "outputs": [
    {
     "data": {
      "text/plain": [
       "{2, 3, 'ammar', 'sami'}"
      ]
     },
     "execution_count": 115,
     "metadata": {},
     "output_type": "execute_result"
    }
   ],
   "source": [
    "# pop use for remove element\n",
    "s1.pop()\n",
    "s1"
   ]
  },
  {
   "cell_type": "code",
   "execution_count": 117,
   "id": "ac9938e2",
   "metadata": {},
   "outputs": [],
   "source": [
    "# update use for update or add element\n",
    "s1.update(\"r\")"
   ]
  },
  {
   "cell_type": "code",
   "execution_count": 121,
   "id": "add70357",
   "metadata": {},
   "outputs": [],
   "source": [
    "s2={3,\"ali\"}"
   ]
  },
  {
   "cell_type": "code",
   "execution_count": 122,
   "id": "710ffb83",
   "metadata": {},
   "outputs": [
    {
     "data": {
      "text/plain": [
       "{2, 'ammar', 'r', 'sami'}"
      ]
     },
     "execution_count": 122,
     "metadata": {},
     "output_type": "execute_result"
    }
   ],
   "source": [
    "# use for difference between s1 and s2\n",
    "s1.difference(s2)"
   ]
  },
  {
   "cell_type": "code",
   "execution_count": 139,
   "id": "0e690004",
   "metadata": {},
   "outputs": [],
   "source": [
    "s3={3,4,5,6,7}\n",
    "s4={5,6,7,9,10,11,12}"
   ]
  },
  {
   "cell_type": "code",
   "execution_count": 133,
   "id": "c4f286be",
   "metadata": {},
   "outputs": [
    {
     "data": {
      "text/plain": [
       "{3, 4}"
      ]
     },
     "execution_count": 133,
     "metadata": {},
     "output_type": "execute_result"
    }
   ],
   "source": [
    "#The difference_update() updates the set calling difference_update() method \n",
    "#with the difference of sets. If A and B are two sets.\n",
    "#The set difference of A and B is a set of elements that exists only in set A but not in B (by google)\n",
    "s3.difference_update(s4)\n",
    "s3"
   ]
  },
  {
   "cell_type": "code",
   "execution_count": 136,
   "id": "1f92a9f2",
   "metadata": {},
   "outputs": [
    {
     "data": {
      "text/plain": [
       "{5, 6, 7}"
      ]
     },
     "execution_count": 136,
     "metadata": {},
     "output_type": "execute_result"
    }
   ],
   "source": [
    "#intersection \n",
    "##The set intersection of A and B is a set of elements that exists  in set A and B both (by google)\n",
    "\n",
    "s3.intersection(s4)"
   ]
  },
  {
   "cell_type": "code",
   "execution_count": 152,
   "id": "4fddc84a",
   "metadata": {},
   "outputs": [
    {
     "data": {
      "text/plain": [
       "{4, 5, 6}"
      ]
     },
     "execution_count": 152,
     "metadata": {},
     "output_type": "execute_result"
    }
   ],
   "source": [
    "s5={2,3,4}\n",
    "s6={4,5,6}\n",
    "s6\n"
   ]
  },
  {
   "cell_type": "code",
   "execution_count": 153,
   "id": "3f529b76",
   "metadata": {},
   "outputs": [
    {
     "data": {
      "text/plain": [
       "{2, 3, 4}"
      ]
     },
     "execution_count": 153,
     "metadata": {},
     "output_type": "execute_result"
    }
   ],
   "source": [
    "s5\n"
   ]
  },
  {
   "cell_type": "code",
   "execution_count": 154,
   "id": "35225cbc",
   "metadata": {},
   "outputs": [],
   "source": [
    "# The intersection_update() method removes the items that is not present in both sets\n",
    "# form first set\n",
    "s5.intersection_update(s6)"
   ]
  },
  {
   "cell_type": "code",
   "execution_count": 155,
   "id": "2abcac19",
   "metadata": {},
   "outputs": [
    {
     "data": {
      "text/plain": [
       "{4}"
      ]
     },
     "execution_count": 155,
     "metadata": {},
     "output_type": "execute_result"
    }
   ],
   "source": [
    "s5"
   ]
  },
  {
   "cell_type": "code",
   "execution_count": 156,
   "id": "d7432616",
   "metadata": {},
   "outputs": [
    {
     "data": {
      "text/plain": [
       "{4, 5, 6}"
      ]
     },
     "execution_count": 156,
     "metadata": {},
     "output_type": "execute_result"
    }
   ],
   "source": [
    "s6"
   ]
  },
  {
   "cell_type": "code",
   "execution_count": 157,
   "id": "5466d9c1",
   "metadata": {},
   "outputs": [
    {
     "data": {
      "text/plain": [
       "{4, 5, 6}"
      ]
     },
     "execution_count": 157,
     "metadata": {},
     "output_type": "execute_result"
    }
   ],
   "source": [
    "s6"
   ]
  },
  {
   "cell_type": "code",
   "execution_count": 159,
   "id": "d79d40dc",
   "metadata": {},
   "outputs": [
    {
     "data": {
      "text/plain": [
       "False"
      ]
     },
     "execution_count": 159,
     "metadata": {},
     "output_type": "execute_result"
    }
   ],
   "source": [
    "# conditional functions\n",
    "s6.issubset(s5)"
   ]
  },
  {
   "cell_type": "code",
   "execution_count": 160,
   "id": "1b7bf5dc",
   "metadata": {},
   "outputs": [
    {
     "data": {
      "text/plain": [
       "False"
      ]
     },
     "execution_count": 160,
     "metadata": {},
     "output_type": "execute_result"
    }
   ],
   "source": [
    "s6.isdisjoint(s5)"
   ]
  },
  {
   "cell_type": "code",
   "execution_count": 167,
   "id": "da64e67d",
   "metadata": {},
   "outputs": [
    {
     "data": {
      "text/plain": [
       "{2, 3, 4, 5, 6, 7}"
      ]
     },
     "execution_count": 167,
     "metadata": {},
     "output_type": "execute_result"
    }
   ],
   "source": [
    "s5={2,3,4,5,6,7}\n",
    "s5"
   ]
  },
  {
   "cell_type": "code",
   "execution_count": 168,
   "id": "b59c3e71",
   "metadata": {},
   "outputs": [
    {
     "data": {
      "text/plain": [
       "{4, 5, 6}"
      ]
     },
     "execution_count": 168,
     "metadata": {},
     "output_type": "execute_result"
    }
   ],
   "source": [
    "s6"
   ]
  },
  {
   "cell_type": "code",
   "execution_count": 169,
   "id": "25eb8959",
   "metadata": {},
   "outputs": [
    {
     "data": {
      "text/plain": [
       "{2, 3, 7}"
      ]
     },
     "execution_count": 169,
     "metadata": {},
     "output_type": "execute_result"
    }
   ],
   "source": [
    "# the difference between element which exist in both  set are known as symmetric difference\n",
    "s6.symmetric_difference(s5)"
   ]
  },
  {
   "cell_type": "code",
   "execution_count": 170,
   "id": "95bdd39a",
   "metadata": {},
   "outputs": [],
   "source": [
    "s5.symmetric_difference_update(s6)"
   ]
  },
  {
   "cell_type": "code",
   "execution_count": null,
   "id": "ab35b8e7",
   "metadata": {},
   "outputs": [],
   "source": []
  }
 ],
 "metadata": {
  "kernelspec": {
   "display_name": "Python 3 (ipykernel)",
   "language": "python",
   "name": "python3"
  },
  "language_info": {
   "codemirror_mode": {
    "name": "ipython",
    "version": 3
   },
   "file_extension": ".py",
   "mimetype": "text/x-python",
   "name": "python",
   "nbconvert_exporter": "python",
   "pygments_lexer": "ipython3",
   "version": "3.9.7"
  }
 },
 "nbformat": 4,
 "nbformat_minor": 5
}
