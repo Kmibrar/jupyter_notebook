{
 "cells": [
  {
   "cell_type": "markdown",
   "id": "dd08f3ec",
   "metadata": {},
   "source": [
    "# python ka chilla with ammar\n",
    "\n",
    "## 01 \n",
    "\n",
    "## first program hello world"
   ]
  },
  {
   "cell_type": "code",
   "execution_count": 1,
   "id": "05d13651",
   "metadata": {},
   "outputs": [],
   "source": [
    "\n",
    "print(20+4)\n",
    "print(\"hello world\")\n"
   ]
  },
  {
   "cell_type": "markdown",
   "id": "5e15d5bb",
   "metadata": {},
   "source": [
    "# 02 operators\n",
    "\n",
    " ### print(\"PEDMAS=Paranthesis, EXPONENTS, Divide,Multiply,Addition,Subtraction\")\n",
    "### print(\"sequence is lift to right FOR M D & A S\")"
   ]
  },
  {
   "cell_type": "code",
   "execution_count": 2,
   "id": "afff61c6",
   "metadata": {},
   "outputs": [],
   "source": [
    "print(\"Addition\")\n",
    "print(4+5)\n",
    "print(\"Subtraction\")\n",
    "print(9-2)\n",
    "print(\"Multiplication\")\n",
    "print(8*3)\n",
    "print(\"Division\")\n",
    "print(25/5)\n",
    "print(\"Division\")\n",
    "print(25//5)\n",
    "print(\"Modulas/Remindar\")\n",
    "print(50%7)\n",
    "print(\"power\")\n",
    "print(4**2)\n",
    "print(\"solving seqence or BDMAS in python is PEDMAS\")\n",
    "print(\"PEDMAS=Paranthesis, EXPONENTS, Divide,Multiply,Addition,Subtraction\")\n",
    "print(\"sequence is lift to right FOR M D & A S\")\n",
    "print(3**2/2*4/2+5-25)\n"
   ]
  },
  {
   "cell_type": "markdown",
   "id": "d1f6c33c",
   "metadata": {},
   "source": [
    "# 03.string\n"
   ]
  },
  {
   "cell_type": "code",
   "execution_count": 3,
   "id": "c6b08982",
   "metadata": {},
   "outputs": [],
   "source": [
    "print(' hello world')\n",
    "print(\"     hello world\")\n",
    "print('''       hello world''')"
   ]
  },
  {
   "cell_type": "markdown",
   "id": "b3be9592",
   "metadata": {},
   "source": [
    "# 04 comments"
   ]
  },
  {
   "cell_type": "code",
   "execution_count": 4,
   "id": "f24e8d9c",
   "metadata": {},
   "outputs": [],
   "source": [
    "print(\"hello world\") # press to comments out the line and shortcut is (ctrl+/)\n",
    "print('why we use comments in program') # we write the purpose of the line or pargraph with key #\n"
   ]
  },
  {
   "cell_type": "code",
   "execution_count": null,
   "id": "3561c176",
   "metadata": {},
   "outputs": [],
   "source": []
  },
  {
   "cell_type": "markdown",
   "id": "a5d0af7e",
   "metadata": {},
   "source": [
    "# 05 variables"
   ]
  },
  {
   "cell_type": "code",
   "execution_count": 5,
   "id": "d567f157",
   "metadata": {},
   "outputs": [],
   "source": [
    "x=5 # numaric or interger variable  data type\n",
    "print(x)\n",
    "\n",
    "\n",
    "y='how are you' #string varibale data type\n",
    "print(y)\n",
    "\n",
    "print(type(x)) # to find the data type \n",
    "print(type(y))"
   ]
  },
  {
   "cell_type": "markdown",
   "id": "797ffe09",
   "metadata": {},
   "source": [
    "# 06 input variables"
   ]
  },
  {
   "cell_type": "code",
   "execution_count": null,
   "id": "b1595ee6",
   "metadata": {},
   "outputs": [],
   "source": [
    "name = input('what is your first name? ')\n",
    "age= input('how old are you? ')\n",
    "greedings ='hello!,'\n",
    "\n",
    "\n",
    "print(greedings, name, 'you are still young ,', age,' year old you are')"
   ]
  },
  {
   "cell_type": "markdown",
   "id": "cec00cd7",
   "metadata": {},
   "source": [
    "# 07 conditional logic"
   ]
  },
  {
   "cell_type": "code",
   "execution_count": null,
   "id": "e93fabe6",
   "metadata": {},
   "outputs": [],
   "source": [
    "#logical operator or Either TRUE/FALSE OR YES/NO OR 1/0\n",
    "#Equal to                   ==\n",
    "#not equal to               !=\n",
    "#greatar then               >\n",
    "#greatar then equal to      >=\n",
    "#less then                  <\n",
    "#less then equal to         <=\n",
    "\n",
    "#is 5 is equa to 5? yes or no\n",
    "# print(5==5)\n",
    "# print(5!=6)\n",
    "#  #or \n",
    "# print(5==3)\n",
    "# print(5!=5)\n",
    "\n",
    "school_age=5\n",
    "hammad_age=input(\"how old is hammad? \") #input function\n",
    "print(type(hammad_age))\n",
    "hammad_age=int(hammad_age) #change type from str to int\n",
    "print(type(hammad_age))\n",
    "print(hammad_age>=school_age) #if the hammad age is greater then equal to school age the result should true\n"
   ]
  },
  {
   "cell_type": "markdown",
   "id": "5ffdf930",
   "metadata": {},
   "source": [
    "# 08 type converstion"
   ]
  },
  {
   "cell_type": "code",
   "execution_count": null,
   "id": "b7ecafd4",
   "metadata": {},
   "outputs": [],
   "source": [
    "# x = 10              #interger\n",
    "# y = 10.4            #float\n",
    "# z = 'hello world'   #str\n",
    "\n",
    "# x=x*y                 #multiply int*float then resulf will be float\n",
    "# #implicite type conversion(where internelly change the type)\n",
    "# print(x,type(x))\n",
    "\n",
    "#explicite type conversion\n",
    "age=input(\"how old are you? \") #here the result will be in str\n",
    "print(age, \"type is \", type(age)) #default type will be str\n",
    "#if you want to convert it into int\n",
    "print(age, \"type is \", type(int(age)))#converted to int\n"
   ]
  },
  {
   "cell_type": "markdown",
   "id": "1c05977b",
   "metadata": {},
   "source": [
    "# 09 if else elif"
   ]
  },
  {
   "cell_type": "code",
   "execution_count": null,
   "id": "ab787782",
   "metadata": {},
   "outputs": [],
   "source": [
    "from xml.dom.expatbuilder import ElementInfo\n",
    "\n",
    "\n",
    "school_requried_age=5\n",
    "hammad_age= 3.5\n",
    "if hammad_age == school_requried_age:\n",
    "    print(\"he can join school\")\n",
    "\n",
    "elif hammad_age <= school_requried_age:\n",
    "        print(\"he is still baby and can not join\")\n",
    "        \n",
    "else: print(\"he should join heiger school\")\n",
    "\n",
    "\n"
   ]
  },
  {
   "cell_type": "markdown",
   "id": "8c2b29d8",
   "metadata": {},
   "source": [
    "# 10 functions"
   ]
  },
  {
   "cell_type": "code",
   "execution_count": null,
   "id": "8aac8aee",
   "metadata": {},
   "outputs": [],
   "source": [
    "# defining a function\n",
    "# 1\n",
    "# def print_codanic():\n",
    "#     print('hello world ')\n",
    "#     print('hello world ')\n",
    "\n",
    "# print_codanic()\n",
    "# 2\n",
    "# def print_codanic():\n",
    "#     text='hello world in python'\n",
    "#     print(text)\n",
    "#     print(text)\n",
    "\n",
    "# print_codanic()\n",
    "#3\n",
    "# def print_codanic(text):\n",
    "   \n",
    "#     print(text)\n",
    "#     print(text)\n",
    "\n",
    "# print_codanic('function method 3')\n",
    "#4\n",
    "# def school_calcutor(age):\n",
    "#     if age == 5:\n",
    "#         print(\"congragulation hammad can join school\")\n",
    "#     elif age > 5:\n",
    "#         print(\" hammad should join heiger school \")\n",
    "#     else: \n",
    "#         print(\"hammad is still baby\")\n",
    "# school_calcutor(2) #first condition\n",
    "# school_calcutor(5) #second condition\n",
    "# school_calcutor(7) #third condition\n",
    "\n",
    "# defining a future age calcultor\n",
    "def future_age(age):\n",
    "    new_age=age+20\n",
    "    return new_age\n",
    "    print(new_age)\n",
    "future_predicated_age = future_age(30)\n",
    "print(future_predicated_age)"
   ]
  },
  {
   "cell_type": "markdown",
   "id": "dedb3fe6",
   "metadata": {},
   "source": [
    "# 11 loops"
   ]
  },
  {
   "cell_type": "code",
   "execution_count": null,
   "id": "e3c384d6",
   "metadata": {},
   "outputs": [],
   "source": [
    "#loops while and for\n",
    "#while loops\n",
    "# x=0\n",
    "# while (x <=10):\n",
    "#     print(x)\n",
    "#     x=x+1\n",
    "\n",
    "#for loop\n",
    "# for x in range(3,9):\n",
    "#     print(x)\n",
    "#array\n",
    "days =[\"Mon\",\"tue\",\"wed\",\"thu\",\"fri\",\"sat\"]\n",
    "\n",
    "for d in days:\n",
    "    #if(d== \"thu\"):break #loop stop\n",
    "    if(d==\"thu\"):continue #skips d\n",
    "    print(d)"
   ]
  },
  {
   "cell_type": "markdown",
   "id": "34777139",
   "metadata": {},
   "source": [
    "# 12 import libraries"
   ]
  },
  {
   "cell_type": "code",
   "execution_count": null,
   "id": "7f5988d4",
   "metadata": {},
   "outputs": [],
   "source": [
    "#if you want to print the value of pi\n",
    "import math\n",
    "#print(\"the value of  pi is \", math.pi)\n",
    "import statistics\n",
    "x=[4,3,5,6,6]\n",
    "print(statistics.mean(x))"
   ]
  },
  {
   "cell_type": "markdown",
   "id": "79b7770b",
   "metadata": {},
   "source": [
    "# 13 Trouble shooting"
   ]
  },
  {
   "cell_type": "code",
   "execution_count": null,
   "id": "4a6a886e",
   "metadata": {},
   "outputs": [],
   "source": [
    "#print(hello we are learning) # syntax error\n",
    "#print(44/0) #runtime error\n",
    "\n",
    "#symatric or self error\n",
    "name= \"ammar\"\n",
    "print(\"hello name\")"
   ]
  }
 ],
 "metadata": {
  "kernelspec": {
   "display_name": "Python 3 (ipykernel)",
   "language": "python",
   "name": "python3"
  },
  "language_info": {
   "codemirror_mode": {
    "name": "ipython",
    "version": 3
   },
   "file_extension": ".py",
   "mimetype": "text/x-python",
   "name": "python",
   "nbconvert_exporter": "python",
   "pygments_lexer": "ipython3",
   "version": "3.9.7"
  }
 },
 "nbformat": 4,
 "nbformat_minor": 5
}
